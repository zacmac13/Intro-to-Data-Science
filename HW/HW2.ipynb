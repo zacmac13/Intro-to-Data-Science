{
 "cells": [
  {
   "cell_type": "markdown",
   "metadata": {},
   "source": [
    "# Intro to Data Science - Homework 2 - Fall 2024 - Wilmington College\n",
    "## Due Date: February 16, 2024, 11:30 AM (Before the Start of Our Class)\n",
    "\n",
    "Dear Students,\n",
    "\n",
    "Welcome to Homework 2 for the Intro to Data Science course.\n",
    "\n",
    "**Submission Instructions:**\n",
    "Please complete the homework and commit your changes to GitHub. Last part of each problem dedicated to this question: \"How long did it take you to solve this question? Was it easy, medium, or hard for you? Feel free to share any comments you have.\"\n",
    "\n",
    "**Alternative Submission:**\n",
    "If, for any reason, you are unable to use GitHub, you can submit your work via email.\n",
    "\n",
    "Remember, timely completion of assignments is crucial for your understanding of the course material. If you face any challenges, don't hesitate to reach out."
   ]
  },
  {
   "cell_type": "markdown",
   "metadata": {},
   "source": [
    "1. **Array Operations:**\n",
    "   Consider the following two arrays:\n",
    "   ```python\n",
    "   array1 = np.array([1, 2, 3, 4, 5])\n",
    "   array2 = np.array([6, 7, 8, 9, 10])\n",
    "   ```\n",
    "   - a. Perform element-wise addition between `array1` and `array2`.\n",
    "   - b. Calculate the square root of each element in `array1`.\n",
    "   - c. How long did it take you to solve this question? Was it easy, medium, or hard for you? Feel free to share any comments you have."
   ]
  },
  {
   "cell_type": "code",
   "execution_count": 2,
   "metadata": {},
   "outputs": [
    {
     "name": "stderr",
     "output_type": "stream",
     "text": [
      "/tmp/ipykernel_1177/249057299.py:1: DeprecationWarning: \n",
      "Pyarrow will become a required dependency of pandas in the next major release of pandas (pandas 3.0),\n",
      "(to allow more performant data types, such as the Arrow string type, and better interoperability with other libraries)\n",
      "but was not found to be installed on your system.\n",
      "If this would cause problems for you,\n",
      "please provide us feedback at https://github.com/pandas-dev/pandas/issues/54466\n",
      "        \n",
      "  import pandas as pd\n"
     ]
    },
    {
     "data": {
      "text/plain": [
       "array([ 7,  9, 11, 13, 15])"
      ]
     },
     "execution_count": 2,
     "metadata": {},
     "output_type": "execute_result"
    }
   ],
   "source": [
    "import pandas as pd\n",
    "import numpy as np\n",
    "array1 = np.array([1, 2, 3, 4, 5])\n",
    "array2 = np.array([6, 7, 8, 9, 10])\n",
    "array1 + array2"
   ]
  },
  {
   "cell_type": "code",
   "execution_count": 3,
   "metadata": {},
   "outputs": [
    {
     "data": {
      "text/plain": [
       "array([1.        , 1.41421356, 1.73205081, 2.        , 2.23606798])"
      ]
     },
     "execution_count": 3,
     "metadata": {},
     "output_type": "execute_result"
    }
   ],
   "source": [
    "np.sqrt(array1)"
   ]
  },
  {
   "cell_type": "markdown",
   "metadata": {},
   "source": [
    "It didn't take super long to answer this question. I would say it was an easy, maybe medium difficulty; all I had to do was look at the notes to refresh my memory."
   ]
  },
  {
   "cell_type": "markdown",
   "metadata": {},
   "source": [
    "2. **Conditional Logic with Arrays:**\n",
    "   Given the following arrays:\n",
    "   ```python\n",
    "   temperatures = np.array([25, 30, 15, 10, 20])\n",
    "   ```\n",
    "   - a. Create a new array `hot_or_cold` where values above 20 are labeled as \"hot\" and below 20 as \"cold\".\n",
    "   - b. Create a new array where temperatures less than the mean of the entire array are replaced with -1.\n",
    "   - c. Replace all temperatures below 15 with 0.\n",
    "   - d. Given the following array `temperatures_2d = np.array([[25, 30, 15], [10, 20, 18], [22, 25, 21]])`. Replace values in each row with the maximum value of that row.\n",
    "   - e. How long did it take you to solve this question? Was it easy, medium, or hard for you? Feel free to share any comments you have."
   ]
  },
  {
   "cell_type": "code",
   "execution_count": 4,
   "metadata": {},
   "outputs": [
    {
     "data": {
      "text/plain": [
       "array(['hot', 'hot', 'cold', 'cold', 'cold'], dtype='<U4')"
      ]
     },
     "execution_count": 4,
     "metadata": {},
     "output_type": "execute_result"
    }
   ],
   "source": [
    "temperatures = np.array([25, 30, 15, 10, 20])\n",
    "hot_or_cold = np.where(temperatures > 20, \"hot\", \"cold\")\n",
    "hot_or_cold"
   ]
  },
  {
   "cell_type": "code",
   "execution_count": 5,
   "metadata": {},
   "outputs": [
    {
     "data": {
      "text/plain": [
       "array([25, 30, -1, -1, 20])"
      ]
     },
     "execution_count": 5,
     "metadata": {},
     "output_type": "execute_result"
    }
   ],
   "source": [
    "temperatures_mean = np.mean(temperatures)\n",
    "under = np.where(temperatures < temperatures_mean, -1, temperatures)\n",
    "under"
   ]
  },
  {
   "cell_type": "code",
   "execution_count": 6,
   "metadata": {},
   "outputs": [
    {
     "data": {
      "text/plain": [
       "array([25, 30, 15,  0, 20])"
      ]
     },
     "execution_count": 6,
     "metadata": {},
     "output_type": "execute_result"
    }
   ],
   "source": [
    "temperatures_cold = np.where(temperatures < 15, 0, temperatures)\n",
    "temperatures_cold"
   ]
  },
  {
   "cell_type": "code",
   "execution_count": 7,
   "metadata": {},
   "outputs": [
    {
     "data": {
      "text/plain": [
       "array([30, 20, 25])"
      ]
     },
     "execution_count": 7,
     "metadata": {},
     "output_type": "execute_result"
    }
   ],
   "source": [
    "temperatures_2d = np.array([[25, 30, 15], [10, 20, 18], [22, 25, 21]])\n",
    "np.max(temperatures_2d, axis = 1)"
   ]
  },
  {
   "cell_type": "markdown",
   "metadata": {},
   "source": [
    "This one was a little harder, but still doable."
   ]
  },
  {
   "cell_type": "markdown",
   "metadata": {},
   "source": [
    "3. **Mathematical and Statistical Methods:**\n",
    "   Use the following array:\n",
    "   ```python\n",
    "   test_scores = np.array([85, 90, 78, 92, 88])\n",
    "   ```\n",
    "   - a. Calculate the mean test score.\n",
    "   - b. Determine the maximum test score.\n",
    "   - c. Compute the cumulative sum of the test scores.\n",
    "   - d. How long did it take you to solve this question? Was it easy, medium, or hard for you? Feel free to share any comments you have."
   ]
  },
  {
   "cell_type": "code",
   "execution_count": 4,
   "metadata": {},
   "outputs": [
    {
     "data": {
      "text/plain": [
       "86.6"
      ]
     },
     "execution_count": 4,
     "metadata": {},
     "output_type": "execute_result"
    }
   ],
   "source": [
    "test_scores = np.array([85, 90, 78, 92, 88])\n",
    "test_scores.mean()"
   ]
  },
  {
   "cell_type": "code",
   "execution_count": 5,
   "metadata": {},
   "outputs": [
    {
     "data": {
      "text/plain": [
       "92"
      ]
     },
     "execution_count": 5,
     "metadata": {},
     "output_type": "execute_result"
    }
   ],
   "source": [
    "test_scores.max()"
   ]
  },
  {
   "cell_type": "code",
   "execution_count": 6,
   "metadata": {},
   "outputs": [
    {
     "data": {
      "text/plain": [
       "array([ 85, 175, 253, 345, 433])"
      ]
     },
     "execution_count": 6,
     "metadata": {},
     "output_type": "execute_result"
    }
   ],
   "source": [
    "test_scores.cumsum()"
   ]
  },
  {
   "cell_type": "markdown",
   "metadata": {},
   "source": [
    "This was a pretty easy question!"
   ]
  },
  {
   "cell_type": "markdown",
   "metadata": {},
   "source": [
    "\n",
    "4. **Linear Algebra:**\n",
    "   Given two matrices:\n",
    "   ```python\n",
    "   matrix1 = np.array([[1, 2], [3, 4]])\n",
    "   matrix2 = np.array([[5, 6], [7, 8]])\n",
    "   ```\n",
    "   - a. Compute the dot product of `matrix1` and `matrix2`.\n",
    "   - b. Find the determinant of `matrix1`.\n",
    "   - c. Find the inverse of the sum of matrices `A` and `B`.\n",
    "   - d. Reshape `matrix1` into a 1D array.\n",
    "   - e. Compute the eigenvalues and eigenvectors of the `matrix1`.\n",
    "   - f. Calculate the cross-product of the `matrix1` and `vector=np.array([1, 2])`.\n",
    "   - g. How long did it take you to solve this question? Was it easy, medium, or hard for you? Feel free to share any comments you have.\n",
    "   "
   ]
  },
  {
   "cell_type": "code",
   "execution_count": 8,
   "metadata": {},
   "outputs": [
    {
     "data": {
      "text/plain": [
       "array([[19, 22],\n",
       "       [43, 50]])"
      ]
     },
     "execution_count": 8,
     "metadata": {},
     "output_type": "execute_result"
    }
   ],
   "source": [
    "matrix1 = np.array([[1, 2], [3, 4]])\n",
    "matrix2 = np.array([[5, 6], [7, 8]])\n",
    "matrix1.dot(matrix2)"
   ]
  },
  {
   "cell_type": "code",
   "execution_count": 10,
   "metadata": {},
   "outputs": [
    {
     "data": {
      "text/plain": [
       "-2.0000000000000004"
      ]
     },
     "execution_count": 10,
     "metadata": {},
     "output_type": "execute_result"
    }
   ],
   "source": [
    "np.linalg.det(matrix1)"
   ]
  },
  {
   "cell_type": "code",
   "execution_count": 11,
   "metadata": {},
   "outputs": [
    {
     "data": {
      "text/plain": [
       "array([[-1.5 ,  1.  ],\n",
       "       [ 1.25, -0.75]])"
      ]
     },
     "execution_count": 11,
     "metadata": {},
     "output_type": "execute_result"
    }
   ],
   "source": [
    "matrix3 = matrix1 + matrix2\n",
    "np.linalg.inv(matrix3)"
   ]
  },
  {
   "cell_type": "code",
   "execution_count": 12,
   "metadata": {},
   "outputs": [
    {
     "data": {
      "text/plain": [
       "array([1, 2, 3, 4])"
      ]
     },
     "execution_count": 12,
     "metadata": {},
     "output_type": "execute_result"
    }
   ],
   "source": [
    "np.reshape(matrix1, -1)"
   ]
  },
  {
   "cell_type": "code",
   "execution_count": 13,
   "metadata": {},
   "outputs": [
    {
     "data": {
      "text/plain": [
       "EigResult(eigenvalues=array([-0.37228132,  5.37228132]), eigenvectors=array([[-0.82456484, -0.41597356],\n",
       "       [ 0.56576746, -0.90937671]]))"
      ]
     },
     "execution_count": 13,
     "metadata": {},
     "output_type": "execute_result"
    }
   ],
   "source": [
    "np.linalg.eig(matrix1)"
   ]
  },
  {
   "cell_type": "code",
   "execution_count": 14,
   "metadata": {},
   "outputs": [
    {
     "data": {
      "text/plain": [
       "array([0, 2])"
      ]
     },
     "execution_count": 14,
     "metadata": {},
     "output_type": "execute_result"
    }
   ],
   "source": [
    "vector = np.array([1,2])\n",
    "np.cross(matrix1, vector)"
   ]
  },
  {
   "cell_type": "markdown",
   "metadata": {},
   "source": [
    "5. **Random Walks Simulation:**\n",
    "   Simulate a random walk with 100 steps using numpy. Start at position 0, and at each step, move either 1 step to the right or 1 step to the left with equal probability.\n",
    "   - a. Plot the trajectory of the random walk.\n",
    "   - b. Find the maximum distance from the starting position reached during the walk.\n",
    "   - c. Calculate and print the mean and standard deviation of the final positions in the random walks.\n",
    "   - d. Experiment with different step distributions. Instead of equal-sized coin flips, use `rng.standard_normal` to generate normally distributed steps with a mean and standard deviation. (e.g, draws = 0.25 * rng.standard_normal((nwalks, nsteps)))\n",
    "   - e. How long did it take you to solve this question? Was it easy, medium, or hard for you? Feel free to share any comments you have."
   ]
  },
  {
   "cell_type": "code",
   "execution_count": 15,
   "metadata": {},
   "outputs": [
    {
     "data": {
      "text/plain": [
       "[<matplotlib.lines.Line2D at 0x7f205425d480>]"
      ]
     },
     "execution_count": 15,
     "metadata": {},
     "output_type": "execute_result"
    },
    {
     "data": {
      "image/png": "[encoded data removed]",
      "text/plain": [
       "<Figure size 640x480 with 1 Axes>"
      ]
     },
     "metadata": {},
     "output_type": "display_data"
    }
   ],
   "source": [
    "import random\n",
    "import matplotlib.pyplot as mt\n",
    "position = 0\n",
    "walk = [position]\n",
    "nsteps = 100\n",
    "for _ in range(nsteps):\n",
    "    step = 1 if random.randint(0, 1) else -1\n",
    "    position += step\n",
    "    walk.append(position)\n",
    "position\n",
    "mt.figure()\n",
    "mt.plot(walk)"
   ]
  },
  {
   "cell_type": "code",
   "execution_count": 17,
   "metadata": {},
   "outputs": [
    {
     "data": {
      "text/plain": [
       "7"
      ]
     },
     "execution_count": 17,
     "metadata": {},
     "output_type": "execute_result"
    }
   ],
   "source": [
    "max(abs(x) for x in walk)"
   ]
  },
  {
   "cell_type": "code",
   "execution_count": 18,
   "metadata": {},
   "outputs": [
    {
     "data": {
      "text/plain": [
       "-3.1881188118811883"
      ]
     },
     "execution_count": 18,
     "metadata": {},
     "output_type": "execute_result"
    }
   ],
   "source": [
    "np.mean(walk)"
   ]
  },
  {
   "cell_type": "code",
   "execution_count": 19,
   "metadata": {},
   "outputs": [
    {
     "data": {
      "text/plain": [
       "1.6393241259263323"
      ]
     },
     "execution_count": 19,
     "metadata": {},
     "output_type": "execute_result"
    }
   ],
   "source": [
    "np.std(walk)"
   ]
  },
  {
   "cell_type": "code",
   "execution_count": 25,
   "metadata": {},
   "outputs": [
    {
     "data": {
      "text/plain": [
       "-0.018459307340471205"
      ]
     },
     "execution_count": 25,
     "metadata": {},
     "output_type": "execute_result"
    }
   ],
   "source": [
    "walks = 500\n",
    "step_size = 10\n",
    "rng = np.random.default_rng()\n",
    "draws = 0.50 * rng.standard_normal((walks, step_size))\n",
    "sum_walks = np.cumsum(draws, axis = 1)\n",
    "final = sum_walks[:, -1]\n",
    "np.mean(final)"
   ]
  },
  {
   "cell_type": "code",
   "execution_count": 26,
   "metadata": {},
   "outputs": [
    {
     "data": {
      "text/plain": [
       "1.589931133968147"
      ]
     },
     "execution_count": 26,
     "metadata": {},
     "output_type": "execute_result"
    }
   ],
   "source": [
    "np.std(final)"
   ]
  },
  {
   "cell_type": "markdown",
   "metadata": {},
   "source": [
    "This one was a little harder, took more time."
   ]
  },
  {
   "cell_type": "markdown",
   "metadata": {},
   "source": [
    "6. **DataFrame Operations:**\n",
    "   \n",
    "   Given the following DataFrame `df`:\n",
    "   ```python\n",
    "   df = pd.DataFrame({\"A\": [1, 2, 3, 4, 5], \"B\": [10, 20, 30, 40, 50]})\n",
    "   ```\n",
    "   - a) Compute the sum of each column in the DataFrame.\n",
    "   - b) Calculate the mean of column 'A'.\n",
    "   - c) Find the maximum value in column 'B'.\n",
    "   - d) Compute the cumulative sum of each column.\n",
    "   - e) How long did it take you to solve this question? Was it easy, medium, or hard for you? Feel free to share any comments you have.\n"
   ]
  },
  {
   "cell_type": "code",
   "execution_count": 27,
   "metadata": {},
   "outputs": [
    {
     "data": {
      "text/plain": [
       "A     15\n",
       "B    150\n",
       "dtype: int64"
      ]
     },
     "execution_count": 27,
     "metadata": {},
     "output_type": "execute_result"
    }
   ],
   "source": [
    "df = pd.DataFrame({\"A\": [1, 2, 3, 4, 5], \"B\": [10, 20, 30, 40, 50]})\n",
    "df.sum()"
   ]
  },
  {
   "cell_type": "code",
   "execution_count": 28,
   "metadata": {},
   "outputs": [
    {
     "data": {
      "text/plain": [
       "3.0"
      ]
     },
     "execution_count": 28,
     "metadata": {},
     "output_type": "execute_result"
    }
   ],
   "source": [
    "df['A'].mean()"
   ]
  },
  {
   "cell_type": "code",
   "execution_count": 29,
   "metadata": {},
   "outputs": [
    {
     "data": {
      "text/plain": [
       "50"
      ]
     },
     "execution_count": 29,
     "metadata": {},
     "output_type": "execute_result"
    }
   ],
   "source": [
    "df['B'].max()"
   ]
  },
  {
   "cell_type": "code",
   "execution_count": 30,
   "metadata": {},
   "outputs": [
    {
     "data": {
      "text/html": [
       "<div>\n",
       "<style scoped>\n",
       "    .dataframe tbody tr th:only-of-type {\n",
       "        vertical-align: middle;\n",
       "    }\n",
       "\n",
       "    .dataframe tbody tr th {\n",
       "        vertical-align: top;\n",
       "    }\n",
       "\n",
       "    .dataframe thead th {\n",
       "        text-align: right;\n",
       "    }\n",
       "</style>\n",
       "<table border=\"1\" class=\"dataframe\">\n",
       "  <thead>\n",
       "    <tr style=\"text-align: right;\">\n",
       "      <th></th>\n",
       "      <th>A</th>\n",
       "      <th>B</th>\n",
       "    </tr>\n",
       "  </thead>\n",
       "  <tbody>\n",
       "    <tr>\n",
       "      <th>0</th>\n",
       "      <td>1</td>\n",
       "      <td>10</td>\n",
       "    </tr>\n",
       "    <tr>\n",
       "      <th>1</th>\n",
       "      <td>3</td>\n",
       "      <td>30</td>\n",
       "    </tr>\n",
       "    <tr>\n",
       "      <th>2</th>\n",
       "      <td>6</td>\n",
       "      <td>60</td>\n",
       "    </tr>\n",
       "    <tr>\n",
       "      <th>3</th>\n",
       "      <td>10</td>\n",
       "      <td>100</td>\n",
       "    </tr>\n",
       "    <tr>\n",
       "      <th>4</th>\n",
       "      <td>15</td>\n",
       "      <td>150</td>\n",
       "    </tr>\n",
       "  </tbody>\n",
       "</table>\n",
       "</div>"
      ],
      "text/plain": [
       "    A    B\n",
       "0   1   10\n",
       "1   3   30\n",
       "2   6   60\n",
       "3  10  100\n",
       "4  15  150"
      ]
     },
     "execution_count": 30,
     "metadata": {},
     "output_type": "execute_result"
    }
   ],
   "source": [
    "df.cumsum()"
   ]
  },
  {
   "cell_type": "markdown",
   "metadata": {},
   "source": [
    "This was not a hard question at all!"
   ]
  },
  {
   "cell_type": "markdown",
   "metadata": {},
   "source": [
    "7. **Sorting and Ranking:**\n",
    "\n",
    "   Consider the DataFrame `data`:\n",
    "   ```python\n",
    "   data = pd.DataFrame({\"A\": [3, 1, 4, 2], \"B\": [10, 30, 20, 40]}, index=[\"D\", \"B\", \"C\", \"A\"])\n",
    "   ```\n",
    "   - a) Sort the DataFrame `data` by index in ascending order.\n",
    "   - b) Sort the DataFrame `data` by column 'B' in descending order.\n",
    "   - c) Rank the values in column 'A' in descending order.\n",
    "   - d) How long did it take you to solve this question? Was it easy, medium, or hard for you? Feel free to share any comments you have.\n"
   ]
  },
  {
   "cell_type": "code",
   "execution_count": 32,
   "metadata": {},
   "outputs": [],
   "source": [
    "data = pd.DataFrame({\"A\": [3, 1, 4, 2], \"B\": [10, 30, 20, 40]}, index=[\"D\", \"B\", \"C\", \"A\"])"
   ]
  },
  {
   "cell_type": "code",
   "execution_count": 27,
   "metadata": {},
   "outputs": [
    {
     "data": {
      "text/html": [
       "<div>\n",
       "<style scoped>\n",
       "    .dataframe tbody tr th:only-of-type {\n",
       "        vertical-align: middle;\n",
       "    }\n",
       "\n",
       "    .dataframe tbody tr th {\n",
       "        vertical-align: top;\n",
       "    }\n",
       "\n",
       "    .dataframe thead th {\n",
       "        text-align: right;\n",
       "    }\n",
       "</style>\n",
       "<table border=\"1\" class=\"dataframe\">\n",
       "  <thead>\n",
       "    <tr style=\"text-align: right;\">\n",
       "      <th></th>\n",
       "      <th>A</th>\n",
       "      <th>B</th>\n",
       "    </tr>\n",
       "  </thead>\n",
       "  <tbody>\n",
       "    <tr>\n",
       "      <th>A</th>\n",
       "      <td>2</td>\n",
       "      <td>40</td>\n",
       "    </tr>\n",
       "    <tr>\n",
       "      <th>B</th>\n",
       "      <td>1</td>\n",
       "      <td>30</td>\n",
       "    </tr>\n",
       "    <tr>\n",
       "      <th>C</th>\n",
       "      <td>4</td>\n",
       "      <td>20</td>\n",
       "    </tr>\n",
       "    <tr>\n",
       "      <th>D</th>\n",
       "      <td>3</td>\n",
       "      <td>10</td>\n",
       "    </tr>\n",
       "  </tbody>\n",
       "</table>\n",
       "</div>"
      ],
      "text/plain": [
       "   A   B\n",
       "A  2  40\n",
       "B  1  30\n",
       "C  4  20\n",
       "D  3  10"
      ]
     },
     "execution_count": 27,
     "metadata": {},
     "output_type": "execute_result"
    }
   ],
   "source": [
    "data.sort_index()"
   ]
  },
  {
   "cell_type": "code",
   "execution_count": 34,
   "metadata": {},
   "outputs": [
    {
     "data": {
      "text/html": [
       "<div>\n",
       "<style scoped>\n",
       "    .dataframe tbody tr th:only-of-type {\n",
       "        vertical-align: middle;\n",
       "    }\n",
       "\n",
       "    .dataframe tbody tr th {\n",
       "        vertical-align: top;\n",
       "    }\n",
       "\n",
       "    .dataframe thead th {\n",
       "        text-align: right;\n",
       "    }\n",
       "</style>\n",
       "<table border=\"1\" class=\"dataframe\">\n",
       "  <thead>\n",
       "    <tr style=\"text-align: right;\">\n",
       "      <th></th>\n",
       "      <th>A</th>\n",
       "      <th>B</th>\n",
       "    </tr>\n",
       "  </thead>\n",
       "  <tbody>\n",
       "    <tr>\n",
       "      <th>A</th>\n",
       "      <td>2</td>\n",
       "      <td>40</td>\n",
       "    </tr>\n",
       "    <tr>\n",
       "      <th>B</th>\n",
       "      <td>1</td>\n",
       "      <td>30</td>\n",
       "    </tr>\n",
       "    <tr>\n",
       "      <th>C</th>\n",
       "      <td>4</td>\n",
       "      <td>20</td>\n",
       "    </tr>\n",
       "    <tr>\n",
       "      <th>D</th>\n",
       "      <td>3</td>\n",
       "      <td>10</td>\n",
       "    </tr>\n",
       "  </tbody>\n",
       "</table>\n",
       "</div>"
      ],
      "text/plain": [
       "   A   B\n",
       "A  2  40\n",
       "B  1  30\n",
       "C  4  20\n",
       "D  3  10"
      ]
     },
     "execution_count": 34,
     "metadata": {},
     "output_type": "execute_result"
    }
   ],
   "source": [
    "data.sort_values(by = 'B' ,ascending=False)"
   ]
  },
  {
   "cell_type": "code",
   "execution_count": 35,
   "metadata": {},
   "outputs": [
    {
     "data": {
      "text/plain": [
       "D    2.0\n",
       "B    4.0\n",
       "C    1.0\n",
       "A    3.0\n",
       "Name: A, dtype: float64"
      ]
     },
     "execution_count": 35,
     "metadata": {},
     "output_type": "execute_result"
    }
   ],
   "source": [
    "data['A'].rank(ascending=False)"
   ]
  },
  {
   "cell_type": "markdown",
   "metadata": {},
   "source": [
    "This one wasn't bad either, didn't take long."
   ]
  },
  {
   "cell_type": "markdown",
   "metadata": {},
   "source": [
    "8. **Descriptive Statistics:**\n",
    "\n",
    "   Suppose we have the DataFrame `stats_data`:\n",
    "   ```python\n",
    "   stats_data = pd.DataFrame({\"X\": [10, 20, 30, 40, 50], \"Y\": [5, 15, 25, 35, 45]})\n",
    "   ```\n",
    "   - a) Compute the sum of each row in the DataFrame.\n",
    "   - b) Calculate the median of column 'X'.\n",
    "   - c) Compute the standard deviation of column 'Y'.\n",
    "   - d) How long did it take you to solve this question? Was it easy, medium, or hard for you? Feel free to share any comments you have."
   ]
  },
  {
   "cell_type": "code",
   "execution_count": 38,
   "metadata": {},
   "outputs": [
    {
     "data": {
      "text/plain": [
       "0    15\n",
       "1    35\n",
       "2    55\n",
       "3    75\n",
       "4    95\n",
       "dtype: int64"
      ]
     },
     "execution_count": 38,
     "metadata": {},
     "output_type": "execute_result"
    }
   ],
   "source": [
    "stats_data = pd.DataFrame({\"X\": [10, 20, 30, 40, 50], \"Y\": [5, 15, 25, 35, 45]})\n",
    "stats_data.sum(axis=1)"
   ]
  },
  {
   "cell_type": "code",
   "execution_count": 39,
   "metadata": {},
   "outputs": [
    {
     "data": {
      "text/plain": [
       "30.0"
      ]
     },
     "execution_count": 39,
     "metadata": {},
     "output_type": "execute_result"
    }
   ],
   "source": [
    "stats_data['X'].median()"
   ]
  },
  {
   "cell_type": "code",
   "execution_count": 40,
   "metadata": {},
   "outputs": [
    {
     "data": {
      "text/plain": [
       "15.811388300841896"
      ]
     },
     "execution_count": 40,
     "metadata": {},
     "output_type": "execute_result"
    }
   ],
   "source": [
    "stats_data['Y'].std()"
   ]
  },
  {
   "cell_type": "markdown",
   "metadata": {},
   "source": [
    "This was also an easier question."
   ]
  },
  {
   "cell_type": "markdown",
   "metadata": {},
   "source": [
    " 9. **GroupBy and Aggregation:**\n",
    "\n",
    "   Given the DataFrame `employee_data`:\n",
    "   ```python\n",
    "   employee_data = pd.DataFrame({\"Department\": [\"IT\", \"HR\", \"IT\", \"Finance\", \"HR\"], \"Salary\": [60000, 55000, 65000, 70000, 60000]})\n",
    "   ```\n",
    "   - a) Group the DataFrame `employee_data` by 'Department' and calculate the total salary for each department.\n",
    "   - b) Find the department with the highest average salary.\n",
    "   - c) Calculate the difference between the highest and lowest salary in each department.\n",
    "   - d) How long did it take you to solve this question? Was it easy, medium, or hard for you? Feel free to share any comments you have."
   ]
  },
  {
   "cell_type": "code",
   "execution_count": 42,
   "metadata": {},
   "outputs": [
    {
     "data": {
      "text/plain": [
       "Department\n",
       "Finance     70000\n",
       "HR         115000\n",
       "IT         125000\n",
       "Name: Salary, dtype: int64"
      ]
     },
     "execution_count": 42,
     "metadata": {},
     "output_type": "execute_result"
    }
   ],
   "source": [
    "employee_data = pd.DataFrame({\"Department\": [\"IT\", \"HR\", \"IT\", \"Finance\", \"HR\"], \"Salary\": [60000, 55000, 65000, 70000, 60000]})\n",
    "employee_data.groupby('Department')['Salary'].sum()"
   ]
  },
  {
   "cell_type": "code",
   "execution_count": 51,
   "metadata": {},
   "outputs": [
    {
     "data": {
      "text/plain": [
       "'Finance'"
      ]
     },
     "execution_count": 51,
     "metadata": {},
     "output_type": "execute_result"
    }
   ],
   "source": [
    "highest_avg_salary = employee_data.groupby('Department')['Salary'].mean()\n",
    "highest_avg_salary.idxmax()"
   ]
  },
  {
   "cell_type": "code",
   "execution_count": 50,
   "metadata": {},
   "outputs": [
    {
     "data": {
      "text/plain": [
       "Department\n",
       "Finance       0\n",
       "HR         5000\n",
       "IT         5000\n",
       "Name: Salary, dtype: int64"
      ]
     },
     "execution_count": 50,
     "metadata": {},
     "output_type": "execute_result"
    }
   ],
   "source": [
    "employee_data.groupby('Department')['Salary'].apply(lambda x: x.max() - x.min())"
   ]
  },
  {
   "cell_type": "markdown",
   "metadata": {},
   "source": [
    "This one was definitely more difficult, took me longer to do."
   ]
  },
  {
   "cell_type": "markdown",
   "metadata": {},
   "source": [
    "10. **Correlation and Covariance:**\n",
    "\n",
    "   Given the DataFrame `stock_data` representing stock prices over time:\n",
    "   ```python\n",
    "   dates = pd.date_range(\"2023-01-01\", periods=5)\n",
    "   stock_prices = pd.DataFrame({\"AAPL\": [100, 105, 110, 115, 120], \"GOOG\": [200, 205, 210, 215, 220]}, index=dates)\n",
    "   ```\n",
    "   - a) Compute the correlation between columns 'AAPL' and 'GOOG'.\n",
    "   - b) Calculate the covariance between columns 'AAPL' and 'GOOG'.\n",
    "   - c) How long did it take you to solve this question? Was it easy, medium, or hard for you? Feel free to share any comments you have."
   ]
  },
  {
   "cell_type": "code",
   "execution_count": 54,
   "metadata": {},
   "outputs": [
    {
     "data": {
      "text/plain": [
       "1.0"
      ]
     },
     "execution_count": 54,
     "metadata": {},
     "output_type": "execute_result"
    }
   ],
   "source": [
    "dates = pd.date_range(\"2023-01-01\", periods = 5)\n",
    "stock_prices = pd.DataFrame({\"AAPL\": [100, 105, 110, 115, 120], \"GOOG\": [200, 205, 210, 215, 220]}, index = dates)\n",
    "stock_prices['AAPL'].corr(stock_prices['GOOG'])"
   ]
  },
  {
   "cell_type": "code",
   "execution_count": 55,
   "metadata": {},
   "outputs": [
    {
     "data": {
      "text/plain": [
       "62.5"
      ]
     },
     "execution_count": 55,
     "metadata": {},
     "output_type": "execute_result"
    }
   ],
   "source": [
    "stock_prices['AAPL'].cov(stock_prices['GOOG'])"
   ]
  },
  {
   "cell_type": "markdown",
   "metadata": {},
   "source": [
    "This question looked intimidating, but it was not difficult."
   ]
  },
  {
   "cell_type": "markdown",
   "metadata": {},
   "source": [
    "11. **Unique Values, Value Counts, and Membership:**\n",
    "\n",
    "   Consider the Series `obj`:\n",
    "   ```python\n",
    "   obj = pd.Series([\"a\", \"b\", \"c\", \"a\", \"a\", \"b\", \"c\", \"d\", \"e\"])\n",
    "   ```\n",
    "   - a) Extract the unique values from the Series `obj`.\n",
    "   - b) Calculate the frequency of each value in the Series `obj`.\n",
    "   - c) Check if the value 'd' is present in the Series `obj`.\n",
    "   - d) How long did it take you to solve this question? Was it easy, medium, or hard for you? Feel free to share any comments you have.\n"
   ]
  },
  {
   "cell_type": "code",
   "execution_count": 56,
   "metadata": {},
   "outputs": [
    {
     "data": {
      "text/plain": [
       "array(['a', 'b', 'c', 'd', 'e'], dtype=object)"
      ]
     },
     "execution_count": 56,
     "metadata": {},
     "output_type": "execute_result"
    }
   ],
   "source": [
    "obj = pd.Series([\"a\", \"b\", \"c\", \"a\", \"a\", \"b\", \"c\", \"d\", \"e\"])\n",
    "np.unique(obj)"
   ]
  },
  {
   "cell_type": "code",
   "execution_count": 58,
   "metadata": {},
   "outputs": [
    {
     "data": {
      "text/plain": [
       "a    3\n",
       "b    2\n",
       "c    2\n",
       "d    1\n",
       "e    1\n",
       "Name: count, dtype: int64"
      ]
     },
     "execution_count": 58,
     "metadata": {},
     "output_type": "execute_result"
    }
   ],
   "source": [
    "obj.value_counts()"
   ]
  },
  {
   "cell_type": "code",
   "execution_count": 59,
   "metadata": {},
   "outputs": [
    {
     "data": {
      "text/plain": [
       "True"
      ]
     },
     "execution_count": 59,
     "metadata": {},
     "output_type": "execute_result"
    }
   ],
   "source": [
    "obj.isin(['d']).any()"
   ]
  },
  {
   "cell_type": "markdown",
   "metadata": {},
   "source": [
    "This question was pretty simple, just had to look back at notes."
   ]
  },
  {
   "cell_type": "markdown",
   "metadata": {},
   "source": [
    "12. **Handling Missing Data:**\n",
    "\n",
    "   Suppose we have the DataFrame `missing_data` with missing values:\n",
    "   ```python\n",
    "   missing_data = pd.DataFrame({\"A\": [1, np.nan, 3, 4, np.nan], \"B\": [10, 20, np.nan, 40, 50]})\n",
    "   ```\n",
    "   - a) Fill the missing values in column 'A' with the mean of column 'A'.\n",
    "   - b) Drop rows with missing values.\n",
    "   - c) Replace missing values in column 'B' with the median of column 'B'.\n",
    "   - d) How long did it take you to solve this question? Was it easy, medium, or hard for you? Feel free to share any comments you have.\n",
    "   \n",
    "   \n"
   ]
  },
  {
   "cell_type": "code",
   "execution_count": 61,
   "metadata": {},
   "outputs": [
    {
     "data": {
      "text/plain": [
       "0    1.000000\n",
       "1    2.666667\n",
       "2    3.000000\n",
       "3    4.000000\n",
       "4    2.666667\n",
       "Name: A, dtype: float64"
      ]
     },
     "execution_count": 61,
     "metadata": {},
     "output_type": "execute_result"
    }
   ],
   "source": [
    "missing_data = pd.DataFrame({\"A\": [1, np.nan, 3, 4, np.nan], \"B\": [10, 20, np.nan, 40, 50]})\n",
    "A_mean = missing_data['A'].mean()\n",
    "missing_data['A'].fillna(A_mean)"
   ]
  },
  {
   "cell_type": "code",
   "execution_count": 62,
   "metadata": {},
   "outputs": [
    {
     "data": {
      "text/html": [
       "<div>\n",
       "<style scoped>\n",
       "    .dataframe tbody tr th:only-of-type {\n",
       "        vertical-align: middle;\n",
       "    }\n",
       "\n",
       "    .dataframe tbody tr th {\n",
       "        vertical-align: top;\n",
       "    }\n",
       "\n",
       "    .dataframe thead th {\n",
       "        text-align: right;\n",
       "    }\n",
       "</style>\n",
       "<table border=\"1\" class=\"dataframe\">\n",
       "  <thead>\n",
       "    <tr style=\"text-align: right;\">\n",
       "      <th></th>\n",
       "      <th>A</th>\n",
       "      <th>B</th>\n",
       "    </tr>\n",
       "  </thead>\n",
       "  <tbody>\n",
       "    <tr>\n",
       "      <th>0</th>\n",
       "      <td>1.0</td>\n",
       "      <td>10.0</td>\n",
       "    </tr>\n",
       "    <tr>\n",
       "      <th>3</th>\n",
       "      <td>4.0</td>\n",
       "      <td>40.0</td>\n",
       "    </tr>\n",
       "  </tbody>\n",
       "</table>\n",
       "</div>"
      ],
      "text/plain": [
       "     A     B\n",
       "0  1.0  10.0\n",
       "3  4.0  40.0"
      ]
     },
     "execution_count": 62,
     "metadata": {},
     "output_type": "execute_result"
    }
   ],
   "source": [
    "missing_data.dropna()"
   ]
  },
  {
   "cell_type": "code",
   "execution_count": 64,
   "metadata": {},
   "outputs": [
    {
     "data": {
      "text/plain": [
       "0    10.0\n",
       "1    20.0\n",
       "2    30.0\n",
       "3    40.0\n",
       "4    50.0\n",
       "Name: B, dtype: float64"
      ]
     },
     "execution_count": 64,
     "metadata": {},
     "output_type": "execute_result"
    }
   ],
   "source": [
    "B_median = missing_data['B'].median()\n",
    "missing_data['B'].fillna(B_median)"
   ]
  },
  {
   "cell_type": "markdown",
   "metadata": {},
   "source": [
    "This was a pretty easy question, didn't take very long."
   ]
  }
 ],
 "metadata": {
  "kernelspec": {
   "display_name": "Python 3",
   "language": "python",
   "name": "python3"
  },
  "language_info": {
   "codemirror_mode": {
    "name": "ipython",
    "version": 3
   },
   "file_extension": ".py",
   "mimetype": "text/x-python",
   "name": "python",
   "nbconvert_exporter": "python",
   "pygments_lexer": "ipython3",
   "version": "3.10.13"
  }
 },
 "nbformat": 4,
 "nbformat_minor": 2
}
